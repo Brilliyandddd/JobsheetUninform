{
  "nbformat": 4,
  "nbformat_minor": 0,
  "metadata": {
    "colab": {
      "provenance": [],
      "authorship_tag": "ABX9TyO2qsbU8fzQFDn7bmFe4mOf",
      "include_colab_link": true
    },
    "kernelspec": {
      "name": "python3",
      "display_name": "Python 3"
    },
    "language_info": {
      "name": "python"
    }
  },
  "cells": [
    {
      "cell_type": "markdown",
      "metadata": {
        "id": "view-in-github",
        "colab_type": "text"
      },
      "source": [
        "<a href=\"https://colab.research.google.com/github/Brilliyandddd/JobsheetUninform/blob/main/06_Brilliyand_Noval_herdana_Putra_Jobsheet_1_BFS_%26_DFS.ipynb\" target=\"_parent\"><img src=\"https://colab.research.google.com/assets/colab-badge.svg\" alt=\"Open In Colab\"/></a>"
      ]
    },
    {
      "cell_type": "code",
      "execution_count": null,
      "metadata": {
        "id": "6wIBMKV43YZW"
      },
      "outputs": [],
      "source": [
        "graph = {\n",
        "    'A' : ['B','C'],\n",
        "    'B' : ['D','E'],\n",
        "    'C' : ['F'],\n",
        "    'D' : [],\n",
        "    'E' : ['F','G'],\n",
        "    'F' : ['H'],\n",
        "    'G' : ['H'],\n",
        "    'H' : ['G']\n",
        "}"
      ]
    },
    {
      "cell_type": "code",
      "source": [
        "visited = []\n",
        "queue = []"
      ],
      "metadata": {
        "id": "iKI437bg-Zgg"
      },
      "execution_count": null,
      "outputs": []
    },
    {
      "cell_type": "code",
      "source": [
        "def bfs(visited, graph, node):\n",
        "  visited.append(node)\n",
        "  queue.append(node)\n",
        "\n",
        "  while queue:\n",
        "    s = queue.pop(0)\n",
        "    print (s, end = \" \")\n",
        "\n",
        "    for neighbour in graph[s]:\n",
        "      if neighbour not in visited:\n",
        "        visited.append(neighbour)\n",
        "        queue.append(neighbour)"
      ],
      "metadata": {
        "id": "PltqQp0--6Dk"
      },
      "execution_count": null,
      "outputs": []
    },
    {
      "cell_type": "code",
      "source": [
        "print(\"Hasil penelusuran graph menggunakan BFS:\")\n",
        "bfs(visited, graph, 'A')"
      ],
      "metadata": {
        "colab": {
          "base_uri": "https://localhost:8080/"
        },
        "id": "WrEr_ykA_wHu",
        "outputId": "b2d41922-f1ec-4309-ae2a-9ea1638a3d0c"
      },
      "execution_count": null,
      "outputs": [
        {
          "output_type": "stream",
          "name": "stdout",
          "text": [
            "Hasil penelusuran graph menggunakan BFS:\n",
            "A B C D E F G H "
          ]
        }
      ]
    },
    {
      "cell_type": "code",
      "source": [
        "graph = {\n",
        "    'A' : ['B','C'],\n",
        "    'B' : ['C','D','E'],\n",
        "    'C' : ['F'],\n",
        "    'D' : [],\n",
        "    'E' : ['F'],\n",
        "    'F' : ['H'],\n",
        "    'G' : ['H'],\n",
        "    'H' : ['G']\n",
        "}\n",
        "\n",
        "visited = set()\n",
        "\n",
        "def dfs(visited, graph, node):\n",
        "  if node not in visited:\n",
        "    print(node)\n",
        "    visited.add(node)\n",
        "    for neighbour in graph[node]:\n",
        "      dfs(visited, graph, neighbour)\n",
        "\n",
        "print(\"Hasil penelusuran graph menggunakan DFS: \")\n",
        "dfs(visited, graph, 'A')"
      ],
      "metadata": {
        "colab": {
          "base_uri": "https://localhost:8080/"
        },
        "id": "PBttabYEDc7Z",
        "outputId": "e4287181-2b88-4e60-eb95-8daf816ce1de"
      },
      "execution_count": null,
      "outputs": [
        {
          "output_type": "stream",
          "name": "stdout",
          "text": [
            "Hasil penelusuran graph menggunakan DFS: \n",
            "A\n",
            "B\n",
            "C\n",
            "F\n",
            "H\n",
            "G\n",
            "D\n",
            "E\n"
          ]
        }
      ]
    },
    {
      "cell_type": "code",
      "source": [
        "graph = {\n",
        "    'A' : ['B','E','F'],\n",
        "    'B' : ['A','G','F'],\n",
        "    'C' : ['D','G'],\n",
        "    'D' : ['H','C'],\n",
        "    'E' : ['F','A'],\n",
        "    'F' : ['B','A','E'],\n",
        "    'G' : ['H','C'],\n",
        "    'H' : ['D','G']\n",
        "}\n",
        "\n",
        "visited = []\n",
        "queue = []\n",
        "\n",
        "def bfs(visited, graph, node):\n",
        "  visited.append(node)\n",
        "  queue.append(node)\n",
        "\n",
        "  while queue:\n",
        "    s = queue.pop(0)\n",
        "    print (s, end = \" \")\n",
        "\n",
        "    for neighbour in graph[s]:\n",
        "      if neighbour not in visited:\n",
        "        visited.append(neighbour)\n",
        "        queue.append(neighbour)\n",
        "\n",
        "print(\"Hasil penelusuran graph menggunakan BFS:\")\n",
        "bfs(visited, graph, 'A')"
      ],
      "metadata": {
        "colab": {
          "base_uri": "https://localhost:8080/"
        },
        "id": "rE_FwMjOHx7U",
        "outputId": "62c0bb2f-29cd-4675-b399-80d8c805db49"
      },
      "execution_count": null,
      "outputs": [
        {
          "output_type": "stream",
          "name": "stdout",
          "text": [
            "Hasil penelusuran graph menggunakan BFS:\n",
            "A B E F G H C D "
          ]
        }
      ]
    },
    {
      "cell_type": "code",
      "source": [
        "graph = {\n",
        "    'A' : ['B','E','F'],\n",
        "    'B' : ['A','G','F'],\n",
        "    'C' : ['D','G'],\n",
        "    'D' : ['H','C'],\n",
        "    'E' : ['F','A'],\n",
        "    'F' : ['B','A','E'],\n",
        "    'G' : ['H','C'],\n",
        "    'H' : ['D','G']\n",
        "}\n",
        "\n",
        "visited = set()\n",
        "\n",
        "def dfs(visited, graph, node):\n",
        "  if node not in visited:\n",
        "    print(node)\n",
        "    visited.add(node)\n",
        "    for neighbour in graph[node]:\n",
        "      dfs(visited, graph, neighbour)\n",
        "\n",
        "print(\"Hasil penelusuran graph menggunakan DFS: \")\n",
        "dfs(visited, graph, 'A')"
      ],
      "metadata": {
        "colab": {
          "base_uri": "https://localhost:8080/"
        },
        "id": "lD_IZeKUJUyx",
        "outputId": "333e5525-5ddb-4a7c-df65-6ab167e65a22"
      },
      "execution_count": null,
      "outputs": [
        {
          "output_type": "stream",
          "name": "stdout",
          "text": [
            "Hasil penelusuran graph menggunakan DFS: \n",
            "A\n",
            "B\n",
            "G\n",
            "H\n",
            "D\n",
            "C\n",
            "F\n",
            "E\n"
          ]
        }
      ]
    },
    {
      "cell_type": "code",
      "source": [
        "graph = {\n",
        "    'A' : ['B'],\n",
        "    'B' : ['A','F','G'],\n",
        "    'C' : ['D','G'],\n",
        "    'D' : ['C','H'],\n",
        "    'E' : ['F'],\n",
        "    'F' : ['E','B'],\n",
        "    'G' : ['B','C'],\n",
        "    'H' : ['D']\n",
        "}\n",
        "\n",
        "visited = []\n",
        "queue = []\n",
        "\n",
        "def bfs(visited, graph, node):\n",
        "  visited.append(node)\n",
        "  queue.append(node)\n",
        "\n",
        "  while queue:\n",
        "    s = queue.pop(0)\n",
        "    print (s, end = \" \")\n",
        "\n",
        "    for neighbour in graph[s]:\n",
        "      if neighbour not in visited:\n",
        "        visited.append(neighbour)\n",
        "        queue.append(neighbour)\n",
        "\n",
        "print(\"Hasil penelusuran graph menggunakan BFS:\")\n",
        "bfs(visited, graph, 'D')"
      ],
      "metadata": {
        "colab": {
          "base_uri": "https://localhost:8080/"
        },
        "id": "W0-XWEc7JwZa",
        "outputId": "7a4f7bab-6a87-46df-a89f-40d6e5ed853c"
      },
      "execution_count": null,
      "outputs": [
        {
          "output_type": "stream",
          "name": "stdout",
          "text": [
            "Hasil penelusuran graph menggunakan BFS:\n",
            "D C H G B A F E "
          ]
        }
      ]
    },
    {
      "cell_type": "code",
      "source": [
        "graph = {\n",
        "    'A' : ['B'],\n",
        "    'B' : ['A','F','G'],\n",
        "    'C' : ['D','G'],\n",
        "    'D' : ['C','H'],\n",
        "    'E' : ['F'],\n",
        "    'F' : ['E','B'],\n",
        "    'G' : ['B','C'],\n",
        "    'H' : ['D']\n",
        "}\n",
        "\n",
        "visited = set()\n",
        "\n",
        "def dfs(visited, graph, node):\n",
        "  if node not in visited:\n",
        "    print(node)\n",
        "    visited.add(node)\n",
        "    for neighbour in graph[node]:\n",
        "      dfs(visited, graph, neighbour)\n",
        "\n",
        "print(\"Hasil penelusuran graph menggunakan DFS: \")\n",
        "dfs(visited, graph, 'D')"
      ],
      "metadata": {
        "colab": {
          "base_uri": "https://localhost:8080/"
        },
        "id": "Fc5dP86POL5m",
        "outputId": "dd98f3e1-01fe-46b2-a54a-e460ad1c0d72"
      },
      "execution_count": null,
      "outputs": [
        {
          "output_type": "stream",
          "name": "stdout",
          "text": [
            "Hasil penelusuran graph menggunakan DFS: \n",
            "D\n",
            "C\n",
            "G\n",
            "B\n",
            "A\n",
            "F\n",
            "E\n",
            "H\n"
          ]
        }
      ]
    }
  ]
}